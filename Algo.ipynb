{
 "cells": [
  {
   "cell_type": "code",
   "execution_count": 1,
   "id": "691ce373",
   "metadata": {},
   "outputs": [
    {
     "name": "stdout",
     "output_type": "stream",
     "text": [
      "Not found\n"
     ]
    }
   ],
   "source": [
    "# Binary Search in python\n",
    "\n",
    "\n",
    "def binarySearch(array, x, low, high):\n",
    "\n",
    "    # Repeat until the pointers low and high meet each other\n",
    "    while low <= high:\n",
    "\n",
    "        mid = low + (high - low)//2\n",
    "\n",
    "        if array[mid] == x:\n",
    "            return mid\n",
    "\n",
    "        elif array[mid] < x:\n",
    "            low = mid + 1\n",
    "\n",
    "        else:\n",
    "            high = mid - 1\n",
    "\n",
    "    return -1\n",
    "\n",
    "\n",
    "array = [1, 2, 3,5, 8]\n",
    "x = 6\n",
    "\n",
    "result = binarySearch(array, x, 0, len(array)-1)\n",
    "\n",
    "if result != -1:\n",
    "    print(\"Element is present at index \" + str(result))\n",
    "else:\n",
    "    print(\"Not found\")"
   ]
  },
  {
   "cell_type": "code",
   "execution_count": 4,
   "id": "b5a72e35",
   "metadata": {},
   "outputs": [
    {
     "name": "stdout",
     "output_type": "stream",
     "text": [
      "donner a 3\n",
      "donner b  5\n"
     ]
    },
    {
     "data": {
      "text/plain": [
       "243"
      ]
     },
     "execution_count": 4,
     "metadata": {},
     "output_type": "execute_result"
    }
   ],
   "source": [
    "def power(a,b):\n",
    "    return a**b\n",
    "a=int(input('donner a '))\n",
    "b=int(input('donner b  '))\n",
    "power(a,b)"
   ]
  },
  {
   "cell_type": "code",
   "execution_count": 5,
   "id": "0b20c6a9",
   "metadata": {},
   "outputs": [
    {
     "name": "stdout",
     "output_type": "stream",
     "text": [
      "Sorted Array in Ascending Order:\n",
      "[13, 22, 29, 37, 46, 49, 52, 56, 71]\n"
     ]
    }
   ],
   "source": [
    "# Bubble sort in Python\n",
    "\n",
    "def bubbleSort(array):\n",
    "    \n",
    "  # loop to access each array element\n",
    "  for i in range(len(array)):\n",
    "\n",
    "    # loop to compare array elements\n",
    "    for j in range(0, len(array) - i - 1):\n",
    "\n",
    "      # compare two adjacent elements\n",
    "      # change > to < to sort in descending order\n",
    "      if array[j] > array[j + 1]:\n",
    "\n",
    "        # swapping elements if elements\n",
    "        # are not in the intended order\n",
    "        temp = array[j]\n",
    "        array[j] = array[j+1]\n",
    "        array[j+1] = temp\n",
    "\n",
    "\n",
    "data = [29,13,22,37,52,49,46,71,56]\n",
    "\n",
    "bubbleSort(data)\n",
    "\n",
    "print('Sorted Array in Ascending Order:')\n",
    "print(data)"
   ]
  },
  {
   "cell_type": "code",
   "execution_count": 8,
   "id": "3298f4e6",
   "metadata": {},
   "outputs": [
    {
     "name": "stdout",
     "output_type": "stream",
     "text": [
      "Sorted array is: \n",
      "13 22 29 37 46 49 52 56 71 \n"
     ]
    }
   ],
   "source": [
    "# MergeSort in Python\n",
    "\n",
    "\n",
    "def mergeSort(array):\n",
    "    if len(array) > 1:\n",
    "\n",
    "        #  r is the point where the array is divided into two subarrays\n",
    "        r = len(array)//2\n",
    "        L = array[:r]\n",
    "        M = array[r:]\n",
    "\n",
    "        # Sort the two halves\n",
    "        mergeSort(L)\n",
    "        mergeSort(M)\n",
    "\n",
    "        i = j = k = 0\n",
    "\n",
    "        # Until we reach either end of either L or M, pick larger among\n",
    "        # elements L and M and place them in the correct position at A[p..r]\n",
    "        while i < len(L) and j < len(M):\n",
    "            if L[i] < M[j]:\n",
    "                array[k] = L[i]\n",
    "                i += 1\n",
    "            else:\n",
    "                array[k] = M[j]\n",
    "                j += 1\n",
    "            k += 1\n",
    "\n",
    "        # When we run out of elements in either L or M,\n",
    "        # pick up the remaining elements and put in A[p..r]\n",
    "        while i < len(L):\n",
    "            array[k] = L[i]\n",
    "            i += 1\n",
    "            k += 1\n",
    "\n",
    "        while j < len(M):\n",
    "            array[k] = M[j]\n",
    "            j += 1\n",
    "            k += 1\n",
    "\n",
    "\n",
    "# Print the array\n",
    "def printList(array):\n",
    "    for i in range(len(array)):\n",
    "        print(array[i], end=\" \")\n",
    "    print()\n",
    "\n",
    "\n",
    "# Driver program\n",
    "if __name__ == '__main__':\n",
    "    array = [29,13,22,37,52,49,46,71,56]\n",
    "\n",
    "    mergeSort(array)\n",
    "\n",
    "    print(\"Sorted array is: \")\n",
    "    printList(array)"
   ]
  },
  {
   "cell_type": "code",
   "execution_count": null,
   "id": "8b415e37",
   "metadata": {},
   "outputs": [],
   "source": [
    "'''quickSort(array, leftmostIndex, rightmostIndex)\n",
    "  if (leftmostIndex < rightmostIndex)\n",
    "    pivotIndex <- partition(array,leftmostIndex, rightmostIndex)\n",
    "    quickSort(array, leftmostIndex, pivotIndex - 1)\n",
    "    quickSort(array, pivotIndex, rightmostIndex)\n",
    "\n",
    "partition(array, leftmostIndex, rightmostIndex)\n",
    "  set rightmostIndex as pivotIndex\n",
    "  storeIndex <- leftmostIndex - 1\n",
    "  for i <- leftmostIndex + 1 to rightmostIndex\n",
    "  if element[i] < pivotElement\n",
    "    swap element[i] and element[storeIndex]\n",
    "    storeIndex++\n",
    "  swap pivotElement and element[storeIndex+1]\n",
    "return storeIndex + 1'''\n",
    "\n",
    "# Quick sort in Python\n",
    "\n",
    "# function to find the partition position\n",
    "def partition(array, low, high):\n",
    "\n",
    "  # choose the rightmost element as pivot\n",
    "  pivot = array[high]\n",
    "\n",
    "  # pointer for greater element\n",
    "  i = low - 1\n",
    "\n",
    "  # traverse through all elements\n",
    "  # compare each element with pivot\n",
    "  for j in range(low, high):\n",
    "    if array[j] <= pivot:\n",
    "      # if element smaller than pivot is found\n",
    "      # swap it with the greater element pointed by i\n",
    "      i = i + 1\n",
    "\n",
    "      # swapping element at i with element at j\n",
    "      (array[i], array[j]) = (array[j], array[i])\n",
    "\n",
    "  # swap the pivot element with the greater element specified by i\n",
    "  (array[i + 1], array[high]) = (array[high], array[i + 1])\n",
    "\n",
    "  # return the position from where partition is done\n",
    "  return i + 1\n",
    "\n",
    "# function to perform quicksort\n",
    "def quickSort(array, low, high):\n",
    "  if low < high:\n",
    "\n",
    "    # find pivot element such that\n",
    "    # element smaller than pivot are on the left\n",
    "    # element greater than pivot are on the right\n",
    "    pi = partition(array, low, high)\n",
    "\n",
    "    # recursive call on the left of pivot\n",
    "    quickSort(array, low, pi - 1)\n",
    "\n",
    "    # recursive call on the right of pivot\n",
    "    quickSort(array, pi + 1, high)\n",
    "\n",
    "\n",
    "data = [8, 7, 2, 1, 0, 9, 6]\n",
    "print(\"Unsorted Array\")\n",
    "print(data)\n",
    "\n",
    "size = len(data)\n",
    "\n",
    "quickSort(data, 0, size - 1)\n",
    "\n",
    "print('Sorted Array in Ascending Order:')\n",
    "print(data)"
   ]
  }
 ],
 "metadata": {
  "kernelspec": {
   "display_name": "Python 3 (ipykernel)",
   "language": "python",
   "name": "python3"
  },
  "language_info": {
   "codemirror_mode": {
    "name": "ipython",
    "version": 3
   },
   "file_extension": ".py",
   "mimetype": "text/x-python",
   "name": "python",
   "nbconvert_exporter": "python",
   "pygments_lexer": "ipython3",
   "version": "3.9.12"
  }
 },
 "nbformat": 4,
 "nbformat_minor": 5
}
